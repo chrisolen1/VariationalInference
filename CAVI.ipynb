{
 "cells": [
  {
   "cell_type": "code",
   "execution_count": 242,
   "id": "554114d4",
   "metadata": {},
   "outputs": [
    {
     "data": {
      "text/plain": [
       "'\\n!pip install numpy\\n!pip install scipy\\n!pip install seaborn\\n!pip install matplotlib\\n'"
      ]
     },
     "execution_count": 242,
     "metadata": {},
     "output_type": "execute_result"
    }
   ],
   "source": [
    "'''\n",
    "!pip install numpy\n",
    "!pip install scipy\n",
    "!pip install seaborn\n",
    "!pip install matplotlib\n",
    "'''"
   ]
  },
  {
   "cell_type": "code",
   "execution_count": 706,
   "id": "56d616af",
   "metadata": {},
   "outputs": [],
   "source": [
    "import numpy as np\n",
    "import scipy as sp\n",
    "\n",
    "import seaborn as sns\n",
    "from matplotlib import pyplot as plt\n",
    "%matplotlib inline"
   ]
  },
  {
   "cell_type": "markdown",
   "id": "0dc3714b",
   "metadata": {},
   "source": [
    "## Data Generation"
   ]
  },
  {
   "cell_type": "code",
   "execution_count": 749,
   "id": "1aa8cb98",
   "metadata": {},
   "outputs": [],
   "source": [
    "sigma = 3\n",
    "num_clusters = 3\n",
    "sample_size = 1000\n"
   ]
  },
  {
   "cell_type": "code",
   "execution_count": 750,
   "id": "0f4d7226",
   "metadata": {},
   "outputs": [],
   "source": [
    "SEED = 2"
   ]
  },
  {
   "cell_type": "code",
   "execution_count": 751,
   "id": "f9fa84ea",
   "metadata": {},
   "outputs": [],
   "source": [
    "np.random.seed(SEED)\n",
    "\n",
    "cluster_mus = np.random.normal(size=num_clusters, loc=0, scale=sigma)\n",
    "cluster_choices = np.random.choice(num_clusters, \n",
    "                            size=sample_size, \n",
    "                            p=[1/num_clusters]*num_clusters)\n",
    "sample_mus = [cluster_mus[cluster_choice] for cluster_choice in cluster_choices]\n",
    "X = np.random.normal(size=sample_size, loc=sample_mus, scale=1)"
   ]
  },
  {
   "cell_type": "code",
   "execution_count": 752,
   "id": "57ac805e",
   "metadata": {},
   "outputs": [
    {
     "data": {
      "text/plain": [
       "array([-1.25027354, -0.16880048, -6.40858829])"
      ]
     },
     "execution_count": 752,
     "metadata": {},
     "output_type": "execute_result"
    }
   ],
   "source": [
    "cluster_mus"
   ]
  },
  {
   "cell_type": "markdown",
   "id": "b7000eb9",
   "metadata": {},
   "source": [
    "## Model"
   ]
  },
  {
   "cell_type": "code",
   "execution_count": null,
   "id": "1445336a",
   "metadata": {},
   "outputs": [],
   "source": []
  },
  {
   "cell_type": "code",
   "execution_count": 871,
   "id": "3ae4055e",
   "metadata": {},
   "outputs": [],
   "source": [
    "class VIGMM:\n",
    "    \n",
    "    \"\"\"\n",
    "    Variational Inference Gaussian Mixture Model\n",
    "    \"\"\"\n",
    "\n",
    "    def __init__(self, \n",
    "                num_clusters,\n",
    "                sample_size,\n",
    "                mu_k_mu_prior=0,\n",
    "                mu_k_sigma_prior=1,\n",
    "                s2_k_alpha_prior=5,\n",
    "                random_seed=1):\n",
    "        \n",
    "        self._num_clusters = num_clusters\n",
    "        self._sample_size = sample_size\n",
    "        \n",
    "        self._mu_k_mu_prior = mu_k_mu_prior\n",
    "        self._mu_k_sigma_prior = mu_k_sigma_prior\n",
    "        self._s2_k_alpha_prior = s2_k_alpha_prior\n",
    "        self._random_seed = random_seed\n",
    "                \n",
    "        self._params = None\n",
    "        \n",
    "    @property\n",
    "    def params(self):\n",
    "        \n",
    "        return self._params\n",
    "        \n",
    "    def _elbo(self, mu_k, s2_k, phis, X):\n",
    "        \n",
    "        t = s2_k + np.square(mu_k)\n",
    "        a = -(1/(2*(self._mu_k_sigma_prior**2)))*sum(t)\n",
    "        b = 2*sum(sum((phis*mu_k)*X[:,np.newaxis])) - 0.5*sum(sum(phis*t))\n",
    "        c = -0.5*sum(np.log(2*np.pi*s2_k))\n",
    "        d = sum(sum(phis*np.log(phis)))\n",
    "        return a+b+c+d\n",
    "        \n",
    "    def fit(self, X, num_iterations=100):\n",
    "    \n",
    "        np.random.seed(self._random_seed)\n",
    "        \n",
    "        mu_k = np.random.normal(size=self._num_clusters, \n",
    "                                loc = self._mu_k_mu_prior, \n",
    "                                scale = self._mu_k_sigma_prior**2) \n",
    "        s2_k = np.random.gamma(size=self._num_clusters, \n",
    "                               shape=self._s2_k_alpha_prior)\n",
    "        phis = np.random.dirichlet(size=self._sample_size, \n",
    "                                   alpha=np.repeat(1, self._num_clusters))\n",
    "        elbos_res = np.zeros(num_iterations+1)\n",
    "\n",
    "        elbos_res[0] = self._elbo(mu_k, s2_k, phis, X)\n",
    "\n",
    "        for i in range(num_iterations):\n",
    "            phis_updated = np.zeros((self._sample_size, self._num_clusters))\n",
    "            for j in range(self._sample_size):\n",
    "                # note: this update can quickly becoming unstable for larger mu_ks\n",
    "                # beware of larger mu_k priors that would lead to larger mu_ks\n",
    "                phis_updated[j] = np.exp(X[j]*mu_k - 0.5*(s2_k + np.square(mu_k)))\n",
    "                phis_updated[j] = phis_updated[j] / np.sum(phis_updated[j])\n",
    "            phis = phis_updated\n",
    "\n",
    "            mu_k_updated = np.zeros(num_clusters)\n",
    "            s2_k_updated = np.zeros(num_clusters)\n",
    "            for k in range(self._num_clusters):\n",
    "                s2_k_updated[k] = 1/(1/(self._mu_k_sigma_prior**2)+sum(phis[:,k]))\n",
    "                mu_k_updated[k] = sum(phis[:,k]*X) / ((1/(self._mu_k_sigma_prior**2)) + sum(phis[:,k]))\n",
    "            s2_k = s2_k_updated\n",
    "            mu_k = mu_k_updated\n",
    "\n",
    "            elbos_res[i+1] = self._elbo(mu_k, s2_k, phis, X)\n",
    "            if i % 10 == 0:\n",
    "                print(f\"Iteration: {i+1}:\", \"ELBO Difference: \", np.abs(elbos_res[i+1]-elbos_res[i-1]))\n",
    "            if np.abs(elbos_res[i+1]-elbos_res[i-1]) < 1e-10:\n",
    "                break\n",
    "        \n",
    "        self._params = {\"mu\":mu_k,\n",
    "                       \"sigma_2\":s2_k,\n",
    "                       \"phi\":phis}\n",
    "    \n",
    "    "
   ]
  },
  {
   "cell_type": "code",
   "execution_count": 872,
   "id": "d024865c",
   "metadata": {},
   "outputs": [
    {
     "name": "stdout",
     "output_type": "stream",
     "text": [
      "Iteration: 0: ELBO Difference:  9820.513538516769\n",
      "Iteration: 10: ELBO Difference:  12.259831111761741\n",
      "Iteration: 20: ELBO Difference:  0.529372054090345\n",
      "Iteration: 30: ELBO Difference:  0.02592066839861218\n",
      "Iteration: 40: ELBO Difference:  0.001276814906304935\n",
      "Iteration: 50: ELBO Difference:  6.291257159318775e-05\n",
      "Iteration: 60: ELBO Difference:  3.099929017480463e-06\n",
      "Iteration: 70: ELBO Difference:  1.5270052244886756e-07\n",
      "Iteration: 80: ELBO Difference:  7.548806024715304e-09\n",
      "Iteration: 90: ELBO Difference:  3.4924596548080444e-10\n"
     ]
    }
   ],
   "source": [
    "vigmm = VIGMM(num_clusters, sample_size)\n",
    "vigmm.fit(X)"
   ]
  },
  {
   "cell_type": "code",
   "execution_count": 873,
   "id": "ca9cf583",
   "metadata": {},
   "outputs": [
    {
     "data": {
      "text/plain": [
       "array([-0.29747623, -6.29623722, -1.17959657])"
      ]
     },
     "execution_count": 873,
     "metadata": {},
     "output_type": "execute_result"
    }
   ],
   "source": [
    "vigmm.params['mu']\n"
   ]
  },
  {
   "cell_type": "code",
   "execution_count": 874,
   "id": "95d3186b",
   "metadata": {},
   "outputs": [
    {
     "data": {
      "text/plain": [
       "array([-1.25027354, -0.16880048, -6.40858829])"
      ]
     },
     "execution_count": 874,
     "metadata": {},
     "output_type": "execute_result"
    }
   ],
   "source": [
    "cluster_mus"
   ]
  },
  {
   "cell_type": "code",
   "execution_count": 880,
   "id": "5ea102c5",
   "metadata": {},
   "outputs": [],
   "source": []
  },
  {
   "cell_type": "code",
   "execution_count": null,
   "id": "428f0891",
   "metadata": {},
   "outputs": [],
   "source": []
  },
  {
   "cell_type": "markdown",
   "id": "23c3731d",
   "metadata": {},
   "source": [
    "# Experimental"
   ]
  },
  {
   "cell_type": "code",
   "execution_count": 875,
   "id": "0d752965",
   "metadata": {},
   "outputs": [],
   "source": [
    "class VIGMM:\n",
    "    \n",
    "    \"\"\"\n",
    "    Variational Inference Gaussian Mixture Model\n",
    "    \"\"\"\n",
    "\n",
    "    def __init__(self, \n",
    "                num_clusters,\n",
    "                sample_size,\n",
    "                mu_k_mu_prior=0,\n",
    "                mu_k_sigma_prior=1,\n",
    "                s2_k_alpha_prior=5,\n",
    "                random_seed=1):\n",
    "        \n",
    "        self._num_clusters = num_clusters\n",
    "        self._sample_size = sample_size\n",
    "        \n",
    "        self._mu_k_mu_prior = mu_k_mu_prior\n",
    "        self._mu_k_sigma_prior = mu_k_sigma_prior\n",
    "        self._s2_k_alpha_prior = s2_k_alpha_prior\n",
    "        self._random_seed = random_seed\n",
    "                \n",
    "        self._params = None\n",
    "        \n",
    "    @property\n",
    "    def params(self):\n",
    "        \n",
    "        return self._params\n",
    "        \n",
    "    def _elbo(self, mu_k, s2_k, phis, X):\n",
    "        \n",
    "        t = s2_k + np.square(mu_k)\n",
    "        a = -(1/(2*(self._mu_k_sigma_prior**2)))*sum(t)\n",
    "        b = 2*sum(sum((phis*mu_k)*X[:,np.newaxis])) - 0.5*sum(sum(phis*t))\n",
    "        c = -0.5*sum(np.log(2*np.pi*s2_k))\n",
    "        d = sum(sum(phis*np.log(phis)))\n",
    "        return a+b+c+d\n",
    "        \n",
    "    def fit(self, X, num_iterations=100):\n",
    "    \n",
    "        np.random.seed(self._random_seed)\n",
    "        \n",
    "        mu_k = np.random.normal(size=self._num_clusters, \n",
    "                                loc = self._mu_k_mu_prior, \n",
    "                                scale = self._mu_k_sigma_prior**2) \n",
    "        s2_k = np.random.gamma(size=self._num_clusters, \n",
    "                               shape=self._s2_k_alpha_prior)\n",
    "        phis = np.random.dirichlet(size=self._sample_size, \n",
    "                                   alpha=np.repeat(1, self._num_clusters))\n",
    "        elbos_res = np.zeros(num_iterations+1)\n",
    "\n",
    "        elbos_res[0] = self._elbo(mu_k, s2_k, phis, X)\n",
    "\n",
    "        for i in range(num_iterations):\n",
    "            phis_updated = np.zeros((self._sample_size, self._num_clusters))\n",
    "            for j in range(self._sample_size):\n",
    "                # note: this update can quickly becoming unstable for larger mu_ks\n",
    "                # beware of larger mu_k priors that would lead to larger mu_ks\n",
    "                phis_updated[j] = np.exp(X[j]*mu_k - 0.5*(s2_k + np.square(mu_k)))\n",
    "                phis_updated[j] = phis_updated[j] / np.sum(phis_updated[j])\n",
    "            phis = phis_updated\n",
    "\n",
    "            mu_k_updated = np.zeros(num_clusters)\n",
    "            s2_k_updated = np.zeros(num_clusters)\n",
    "            for k in range(self._num_clusters):\n",
    "                s2_k_updated[k] = 1/(1/(self._mu_k_sigma_prior**2)+sum(phis[:,k]))\n",
    "                mu_k_updated[k] = sum(phis[:,k]*X) / ((1/(self._mu_k_sigma_prior**2)) + sum(phis[:,k]))\n",
    "            s2_k = s2_k_updated\n",
    "            mu_k = mu_k_updated\n",
    "\n",
    "            elbos_res[i+1] = self._elbo(mu_k, s2_k, phis, X)\n",
    "            if i % 10 == 0:\n",
    "                print(f\"Iteration: {i+1}:\", \"ELBO Difference: \", np.abs(elbos_res[i+1]-elbos_res[i-1]))\n",
    "            if np.abs(elbos_res[i+1]-elbos_res[i-1]) < 1e-10:\n",
    "                break\n",
    "        \n",
    "        self._params = {\"mu\":mu_k,\n",
    "                       \"sigma_2\":s2_k,\n",
    "                       \"phi\":phis}\n",
    "    \n",
    "    "
   ]
  },
  {
   "cell_type": "code",
   "execution_count": 876,
   "id": "c2897db9",
   "metadata": {},
   "outputs": [
    {
     "name": "stdout",
     "output_type": "stream",
     "text": [
      "Iteration: 1: ELBO Difference:  9820.513538516769\n",
      "Iteration: 11: ELBO Difference:  12.259831111758103\n",
      "Iteration: 21: ELBO Difference:  0.529372054090345\n",
      "Iteration: 31: ELBO Difference:  0.0259206683949742\n",
      "Iteration: 41: ELBO Difference:  0.001276814906304935\n",
      "Iteration: 51: ELBO Difference:  6.291257159318775e-05\n",
      "Iteration: 61: ELBO Difference:  3.099929017480463e-06\n",
      "Iteration: 71: ELBO Difference:  1.5270779840648174e-07\n",
      "Iteration: 81: ELBO Difference:  7.548806024715304e-09\n",
      "Iteration: 91: ELBO Difference:  3.4560798667371273e-10\n"
     ]
    }
   ],
   "source": [
    "vigmm = VIGMM(num_clusters, sample_size)\n",
    "vigmm.fit(X)"
   ]
  },
  {
   "cell_type": "code",
   "execution_count": 877,
   "id": "760ae2a8",
   "metadata": {},
   "outputs": [
    {
     "data": {
      "text/plain": [
       "array([-0.29747623, -6.29623722, -1.17959657])"
      ]
     },
     "execution_count": 877,
     "metadata": {},
     "output_type": "execute_result"
    }
   ],
   "source": [
    "vigmm.params['mu']\n"
   ]
  },
  {
   "cell_type": "code",
   "execution_count": 878,
   "id": "17752713",
   "metadata": {},
   "outputs": [
    {
     "data": {
      "text/plain": [
       "array([-1.25027354, -0.16880048, -6.40858829])"
      ]
     },
     "execution_count": 878,
     "metadata": {},
     "output_type": "execute_result"
    }
   ],
   "source": [
    "cluster_mus"
   ]
  },
  {
   "cell_type": "code",
   "execution_count": null,
   "id": "ec1789b7",
   "metadata": {},
   "outputs": [],
   "source": []
  },
  {
   "cell_type": "code",
   "execution_count": null,
   "id": "21a71b56",
   "metadata": {},
   "outputs": [],
   "source": []
  },
  {
   "cell_type": "code",
   "execution_count": null,
   "id": "a7f91b22",
   "metadata": {},
   "outputs": [],
   "source": []
  },
  {
   "cell_type": "code",
   "execution_count": null,
   "id": "d6657bb2",
   "metadata": {},
   "outputs": [],
   "source": []
  },
  {
   "cell_type": "code",
   "execution_count": null,
   "id": "e4483a3d",
   "metadata": {},
   "outputs": [],
   "source": []
  },
  {
   "cell_type": "code",
   "execution_count": null,
   "id": "3dff2711",
   "metadata": {},
   "outputs": [],
   "source": []
  },
  {
   "cell_type": "code",
   "execution_count": null,
   "id": "b457150d",
   "metadata": {},
   "outputs": [],
   "source": []
  },
  {
   "cell_type": "code",
   "execution_count": null,
   "id": "0de9ebd8",
   "metadata": {},
   "outputs": [],
   "source": []
  },
  {
   "cell_type": "code",
   "execution_count": null,
   "id": "39d33a9e",
   "metadata": {},
   "outputs": [],
   "source": []
  },
  {
   "cell_type": "code",
   "execution_count": null,
   "id": "c65b2eab",
   "metadata": {},
   "outputs": [],
   "source": []
  },
  {
   "cell_type": "code",
   "execution_count": null,
   "id": "a83e51a6",
   "metadata": {},
   "outputs": [],
   "source": []
  },
  {
   "cell_type": "code",
   "execution_count": null,
   "id": "bb899fe3",
   "metadata": {},
   "outputs": [],
   "source": []
  },
  {
   "cell_type": "code",
   "execution_count": null,
   "id": "aa68c88d",
   "metadata": {},
   "outputs": [],
   "source": []
  },
  {
   "cell_type": "code",
   "execution_count": null,
   "id": "6f0ebc61",
   "metadata": {},
   "outputs": [],
   "source": []
  },
  {
   "cell_type": "code",
   "execution_count": null,
   "id": "5bdd6972",
   "metadata": {},
   "outputs": [],
   "source": []
  },
  {
   "cell_type": "code",
   "execution_count": null,
   "id": "2644f9b7",
   "metadata": {},
   "outputs": [],
   "source": []
  },
  {
   "cell_type": "code",
   "execution_count": null,
   "id": "d8205386",
   "metadata": {},
   "outputs": [],
   "source": []
  },
  {
   "cell_type": "code",
   "execution_count": null,
   "id": "1f93f37d",
   "metadata": {},
   "outputs": [],
   "source": []
  },
  {
   "cell_type": "code",
   "execution_count": null,
   "id": "15c8c802",
   "metadata": {},
   "outputs": [],
   "source": []
  },
  {
   "cell_type": "code",
   "execution_count": null,
   "id": "0ae43996",
   "metadata": {},
   "outputs": [],
   "source": []
  },
  {
   "cell_type": "code",
   "execution_count": null,
   "id": "e1a61d93",
   "metadata": {},
   "outputs": [],
   "source": []
  },
  {
   "cell_type": "code",
   "execution_count": null,
   "id": "eb202697",
   "metadata": {},
   "outputs": [],
   "source": []
  },
  {
   "cell_type": "code",
   "execution_count": null,
   "id": "41c52463",
   "metadata": {},
   "outputs": [],
   "source": []
  },
  {
   "cell_type": "code",
   "execution_count": null,
   "id": "5bd713c3",
   "metadata": {},
   "outputs": [],
   "source": []
  },
  {
   "cell_type": "code",
   "execution_count": null,
   "id": "06329e91",
   "metadata": {},
   "outputs": [],
   "source": []
  },
  {
   "cell_type": "code",
   "execution_count": null,
   "id": "e13b9775",
   "metadata": {},
   "outputs": [],
   "source": []
  },
  {
   "cell_type": "code",
   "execution_count": null,
   "id": "ae67940e",
   "metadata": {},
   "outputs": [],
   "source": []
  },
  {
   "cell_type": "code",
   "execution_count": null,
   "id": "41dd6306",
   "metadata": {},
   "outputs": [],
   "source": []
  },
  {
   "cell_type": "code",
   "execution_count": null,
   "id": "507b4cb6",
   "metadata": {},
   "outputs": [],
   "source": []
  },
  {
   "cell_type": "code",
   "execution_count": null,
   "id": "c5292284",
   "metadata": {},
   "outputs": [],
   "source": []
  },
  {
   "cell_type": "code",
   "execution_count": null,
   "id": "89ab44ac",
   "metadata": {},
   "outputs": [],
   "source": []
  },
  {
   "cell_type": "code",
   "execution_count": null,
   "id": "76b6e0bc",
   "metadata": {},
   "outputs": [],
   "source": []
  },
  {
   "cell_type": "code",
   "execution_count": null,
   "id": "e9ca6c77",
   "metadata": {},
   "outputs": [],
   "source": []
  },
  {
   "cell_type": "code",
   "execution_count": null,
   "id": "77564ffc",
   "metadata": {},
   "outputs": [],
   "source": []
  }
 ],
 "metadata": {
  "kernelspec": {
   "display_name": "Python 3 (ipykernel)",
   "language": "python",
   "name": "python3"
  },
  "language_info": {
   "codemirror_mode": {
    "name": "ipython",
    "version": 3
   },
   "file_extension": ".py",
   "mimetype": "text/x-python",
   "name": "python",
   "nbconvert_exporter": "python",
   "pygments_lexer": "ipython3",
   "version": "3.9.12"
  }
 },
 "nbformat": 4,
 "nbformat_minor": 5
}
