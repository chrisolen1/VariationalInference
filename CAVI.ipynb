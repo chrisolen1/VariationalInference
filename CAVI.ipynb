{
 "cells": [
  {
   "cell_type": "code",
   "execution_count": 242,
   "id": "554114d4",
   "metadata": {},
   "outputs": [
    {
     "data": {
      "text/plain": [
       "'\\n!pip install numpy\\n!pip install scipy\\n!pip install seaborn\\n!pip install matplotlib\\n'"
      ]
     },
     "execution_count": 242,
     "metadata": {},
     "output_type": "execute_result"
    }
   ],
   "source": [
    "'''\n",
    "!pip install numpy\n",
    "!pip install scipy\n",
    "!pip install seaborn\n",
    "!pip install matplotlib\n",
    "'''"
   ]
  },
  {
   "cell_type": "code",
   "execution_count": 706,
   "id": "56d616af",
   "metadata": {},
   "outputs": [],
   "source": [
    "import numpy as np\n",
    "import scipy as sp\n",
    "\n",
    "import seaborn as sns\n",
    "from matplotlib import pyplot as plt\n",
    "%matplotlib inline"
   ]
  },
  {
   "cell_type": "markdown",
   "id": "0dc3714b",
   "metadata": {},
   "source": [
    "## Data Generation"
   ]
  },
  {
   "cell_type": "code",
   "execution_count": 749,
   "id": "1aa8cb98",
   "metadata": {},
   "outputs": [],
   "source": [
    "sigma = 3\n",
    "num_clusters = 3\n",
    "sample_size = 1000\n"
   ]
  },
  {
   "cell_type": "code",
   "execution_count": 750,
   "id": "6c5f1e6d",
   "metadata": {},
   "outputs": [],
   "source": [
    "SEED = 2"
   ]
  },
  {
   "cell_type": "code",
   "execution_count": 751,
   "id": "f9fa84ea",
   "metadata": {},
   "outputs": [],
   "source": [
    "np.random.seed(SEED)\n",
    "\n",
    "cluster_mus = np.random.normal(size=num_clusters, loc=0, scale=sigma)\n",
    "cluster_choices = np.random.choice(num_clusters, \n",
    "                            size=sample_size, \n",
    "                            p=[1/num_clusters]*num_clusters)\n",
    "sample_mus = [cluster_mus[cluster_choice] for cluster_choice in cluster_choices]\n",
    "X = np.random.normal(size=sample_size, loc=sample_mus, scale=1)"
   ]
  },
  {
   "cell_type": "code",
   "execution_count": 752,
   "id": "9f93bb94",
   "metadata": {},
   "outputs": [
    {
     "data": {
      "text/plain": [
       "array([-1.25027354, -0.16880048, -6.40858829])"
      ]
     },
     "execution_count": 752,
     "metadata": {},
     "output_type": "execute_result"
    }
   ],
   "source": [
    "cluster_mus"
   ]
  },
  {
   "cell_type": "markdown",
   "id": "b7000eb9",
   "metadata": {},
   "source": [
    "## Model"
   ]
  },
  {
   "cell_type": "code",
   "execution_count": null,
   "id": "1445336a",
   "metadata": {},
   "outputs": [],
   "source": []
  },
  {
   "cell_type": "code",
   "execution_count": 871,
   "id": "d408e76e",
   "metadata": {},
   "outputs": [],
   "source": [
    "class VIGMM:\n",
    "    \n",
    "    \"\"\"\n",
    "    Variational Inference Gaussian Mixture Model\n",
    "    \"\"\"\n",
    "\n",
    "    def __init__(self, \n",
    "                num_clusters,\n",
    "                sample_size,\n",
    "                mu_k_mu_prior=0,\n",
    "                mu_k_sigma_prior=1,\n",
    "                s2_k_alpha_prior=5,\n",
    "                random_seed=1):\n",
    "        \n",
    "        self._num_clusters = num_clusters\n",
    "        self._sample_size = sample_size\n",
    "        \n",
    "        self._mu_k_mu_prior = mu_k_mu_prior\n",
    "        self._mu_k_sigma_prior = mu_k_sigma_prior\n",
    "        self._s2_k_alpha_prior = s2_k_alpha_prior\n",
    "        self._random_seed = random_seed\n",
    "                \n",
    "        self._params = None\n",
    "        \n",
    "    @property\n",
    "    def params(self):\n",
    "        \n",
    "        return self._params\n",
    "        \n",
    "    def _elbo(self, mu_k, s2_k, phis, X):\n",
    "        \n",
    "        t = s2_k + np.square(mu_k)\n",
    "        a = -(1/(2*(self._mu_k_sigma_prior**2)))*sum(t)\n",
    "        b = 2*sum(sum((phis*mu_k)*X[:,np.newaxis])) - 0.5*sum(sum(phis*t))\n",
    "        c = -0.5*sum(np.log(2*np.pi*s2_k))\n",
    "        d = sum(sum(phis*np.log(phis)))\n",
    "        return a+b+c+d\n",
    "        \n",
    "    def fit(self, X, num_iterations=100):\n",
    "    \n",
    "        np.random.seed(self._random_seed)\n",
    "        \n",
    "        mu_k = np.random.normal(size=self._num_clusters, \n",
    "                                loc = self._mu_k_mu_prior, \n",
    "                                scale = self._mu_k_sigma_prior**2) \n",
    "        s2_k = np.random.gamma(size=self._num_clusters, \n",
    "                               shape=self._s2_k_alpha_prior)\n",
    "        phis = np.random.dirichlet(size=self._sample_size, \n",
    "                                   alpha=np.repeat(1, self._num_clusters))\n",
    "        elbos_res = np.zeros(num_iterations+1)\n",
    "\n",
    "        elbos_res[0] = self._elbo(mu_k, s2_k, phis, X)\n",
    "\n",
    "        for i in range(num_iterations):\n",
    "            phis_updated = np.zeros((self._sample_size, self._num_clusters))\n",
    "            for j in range(self._sample_size):\n",
    "                # note: this update can quickly becoming unstable for larger mu_ks\n",
    "                # beware of larger mu_k priors that would lead to larger mu_ks\n",
    "                phis_updated[j] = np.exp(X[j]*mu_k - 0.5*(s2_k + np.square(mu_k)))\n",
    "                phis_updated[j] = phis_updated[j] / np.sum(phis_updated[j])\n",
    "            phis = phis_updated\n",
    "\n",
    "            mu_k_updated = np.zeros(num_clusters)\n",
    "            s2_k_updated = np.zeros(num_clusters)\n",
    "            for k in range(self._num_clusters):\n",
    "                s2_k_updated[k] = 1/(1/(self._mu_k_sigma_prior**2)+sum(phis[:,k]))\n",
    "                mu_k_updated[k] = sum(phis[:,k]*X) / ((1/(self._mu_k_sigma_prior**2)) + sum(phis[:,k]))\n",
    "            s2_k = s2_k_updated\n",
    "            mu_k = mu_k_updated\n",
    "\n",
    "            elbos_res[i+1] = self._elbo(mu_k, s2_k, phis, X)\n",
    "            if i % 10 == 0:\n",
    "                print(f\"Iteration: {i+1}:\", \"ELBO Difference: \", np.abs(elbos_res[i+1]-elbos_res[i-1]))\n",
    "            if np.abs(elbos_res[i+1]-elbos_res[i-1]) < 1e-10:\n",
    "                break\n",
    "        \n",
    "        self._params = {\"mu\":mu_k,\n",
    "                       \"sigma_2\":s2_k,\n",
    "                       \"phi\":phis}\n",
    "    \n",
    "    "
   ]
  },
  {
   "cell_type": "code",
   "execution_count": 872,
   "id": "d024865c",
   "metadata": {},
   "outputs": [
    {
     "name": "stdout",
     "output_type": "stream",
     "text": [
      "Iteration: 0: ELBO Difference:  9820.513538516769\n",
      "Iteration: 10: ELBO Difference:  12.259831111761741\n",
      "Iteration: 20: ELBO Difference:  0.529372054090345\n",
      "Iteration: 30: ELBO Difference:  0.02592066839861218\n",
      "Iteration: 40: ELBO Difference:  0.001276814906304935\n",
      "Iteration: 50: ELBO Difference:  6.291257159318775e-05\n",
      "Iteration: 60: ELBO Difference:  3.099929017480463e-06\n",
      "Iteration: 70: ELBO Difference:  1.5270052244886756e-07\n",
      "Iteration: 80: ELBO Difference:  7.548806024715304e-09\n",
      "Iteration: 90: ELBO Difference:  3.4924596548080444e-10\n"
     ]
    }
   ],
   "source": [
    "vigmm = VIGMM(num_clusters, sample_size)\n",
    "vigmm.fit(X)"
   ]
  },
  {
   "cell_type": "code",
   "execution_count": 873,
   "id": "5842dfc8",
   "metadata": {},
   "outputs": [
    {
     "data": {
      "text/plain": [
       "array([-0.29747623, -6.29623722, -1.17959657])"
      ]
     },
     "execution_count": 873,
     "metadata": {},
     "output_type": "execute_result"
    }
   ],
   "source": [
    "vigmm.params['mu']\n"
   ]
  },
  {
   "cell_type": "code",
   "execution_count": 874,
   "id": "3d2a2e40",
   "metadata": {},
   "outputs": [
    {
     "data": {
      "text/plain": [
       "array([-1.25027354, -0.16880048, -6.40858829])"
      ]
     },
     "execution_count": 874,
     "metadata": {},
     "output_type": "execute_result"
    }
   ],
   "source": [
    "cluster_mus"
   ]
  },
  {
   "cell_type": "code",
   "execution_count": 880,
   "id": "88d82ada",
   "metadata": {},
   "outputs": [],
   "source": []
  },
  {
   "cell_type": "code",
   "execution_count": null,
   "id": "4e17aef3",
   "metadata": {},
   "outputs": [],
   "source": []
  },
  {
   "cell_type": "markdown",
   "id": "a5f0236a",
   "metadata": {},
   "source": [
    "# Experimental"
   ]
  },
  {
   "cell_type": "code",
   "execution_count": 893,
   "id": "d138e588",
   "metadata": {},
   "outputs": [],
   "source": [
    "class VIGMM:\n",
    "    \n",
    "    \"\"\"\n",
    "    Variational Inference Gaussian Mixture Model\n",
    "    \"\"\"\n",
    "\n",
    "    def __init__(self, \n",
    "                num_clusters,\n",
    "                sample_size,\n",
    "                mu_k_mu_prior=0,\n",
    "                mu_k_sigma_prior=1,\n",
    "                s2_k_alpha_prior=5,\n",
    "                random_seed=1):\n",
    "        \n",
    "        self._num_clusters = num_clusters\n",
    "        self._sample_size = sample_size\n",
    "        \n",
    "        self._mu_k_mu_prior = mu_k_mu_prior\n",
    "        self._mu_k_sigma_prior = mu_k_sigma_prior\n",
    "        self._s2_k_alpha_prior = s2_k_alpha_prior\n",
    "        self._random_seed = random_seed\n",
    "                \n",
    "        self._params = None\n",
    "        \n",
    "    @property\n",
    "    def params(self):\n",
    "        \n",
    "        return self._params\n",
    "        \n",
    "    def _elbo(self, mu_k, s2_k, phis, X):\n",
    "        \n",
    "        # expectation under variational distribution of log probability of mu_k\n",
    "        # given prior distribution on mu_k\n",
    "        log_p_mu_k = -(1/(2*(self._mu_k_sigma_prior**2)))*sum(s2_k + np.square(mu_k))\n",
    "        \n",
    "        # expectation under variational distribution of log probability of evidence\n",
    "        # given prior distributions over latent variables, mu_k and s2_k\n",
    "        log_p_x_i = 2*sum(sum((phis*mu_k)*X[:,np.newaxis])) - \\\n",
    "                        0.5*sum(sum(phis*(s2_k + np.square(mu_k))))\n",
    "        \n",
    "        # expectation under variational distribution of log probabiltiy of mu_k\n",
    "        # given variational distribution over mu_k\n",
    "        log_q_mu_k = -0.5*sum(np.log(2*np.pi*s2_k))\n",
    "        \n",
    "        # expectation under the variational distribution of log probability of c_i\n",
    "        # (i.e. the cluster assignments) given variational distribution over c_i\n",
    "        log_q_c_i = sum(sum(phis*np.log(phis)))\n",
    "        \n",
    "        return log_p_mu_k + log_p_x_i + log_q_mu_k + log_q_c_i\n",
    "    \n",
    "    def _update_phis(self, X, mu_k, s2_k):\n",
    "        \n",
    "        phis_updated = np.zeros((self._sample_size, self._num_clusters))\n",
    "        \n",
    "        for j in range(self._sample_size):\n",
    "            # note: this update can quickly becoming unstable for larger mu_ks\n",
    "            # beware of larger mu_k priors that would lead to larger mu_ks\n",
    "            phis_updated[j] = np.exp(X[j]*mu_k - 0.5*(s2_k + np.square(mu_k)))\n",
    "            phis_updated[j] = phis_updated[j] / np.sum(phis_updated[j])\n",
    "        return phis_updated\n",
    "    \n",
    "    def _update_gaussian(self, X, phis):\n",
    "        \n",
    "        mu_k_updated = np.zeros(num_clusters)\n",
    "        s2_k_updated = np.zeros(num_clusters)\n",
    "        \n",
    "        for k in range(self._num_clusters):\n",
    "            mu_k_updated[k] = sum(phis[:,k]*X) / ((1/(self._mu_k_sigma_prior**2)) + sum(phis[:,k]))\n",
    "            s2_k_updated[k] = 1/(1/(self._mu_k_sigma_prior**2)+sum(phis[:,k]))\n",
    "            \n",
    "        return mu_k_updated, s2_k_updated\n",
    "        \n",
    "        \n",
    "    def fit(self, X, num_iterations=100):\n",
    "    \n",
    "        np.random.seed(self._random_seed)\n",
    "        \n",
    "        mu_k = np.random.normal(size=self._num_clusters, \n",
    "                                loc = self._mu_k_mu_prior, \n",
    "                                scale = self._mu_k_sigma_prior**2) \n",
    "        s2_k = np.random.gamma(size=self._num_clusters, \n",
    "                               shape=self._s2_k_alpha_prior)\n",
    "        phis = np.random.dirichlet(size=self._sample_size, \n",
    "                                   alpha=np.repeat(1, self._num_clusters))\n",
    "        elbos_res = np.zeros(num_iterations+1)\n",
    "\n",
    "        elbos_res[0] = self._elbo(mu_k, s2_k, phis, X)\n",
    "\n",
    "        for i in range(num_iterations):\n",
    "            \n",
    "            phis = self._update_phis(X, mu_k, s2_k)\n",
    "            \n",
    "            mu_k, s2_k = self._update_gaussian(X, phis)\n",
    "\n",
    "            elbos_res[i+1] = self._elbo(mu_k, s2_k, phis, X)\n",
    "            if i % 10 == 0:\n",
    "                print(f\"Iteration: {i+1}:\", \"ELBO Difference: \", np.abs(elbos_res[i+1]-elbos_res[i-1]))\n",
    "            if np.abs(elbos_res[i+1]-elbos_res[i-1]) < 1e-10:\n",
    "                break\n",
    "        \n",
    "        self._params = {\"mu\":mu_k,\n",
    "                       \"sigma_2\":s2_k,\n",
    "                       \"phi\":phis}\n",
    "    \n",
    "    "
   ]
  },
  {
   "cell_type": "code",
   "execution_count": 894,
   "id": "2395807e",
   "metadata": {},
   "outputs": [
    {
     "ename": "TypeError",
     "evalue": "_update_gaussian() missing 2 required positional arguments: 'X' and 'phis'",
     "output_type": "error",
     "traceback": [
      "\u001b[0;31m---------------------------------------------------------------------------\u001b[0m",
      "\u001b[0;31mTypeError\u001b[0m                                 Traceback (most recent call last)",
      "Cell \u001b[0;32mIn [894], line 2\u001b[0m\n\u001b[1;32m      1\u001b[0m vigmm \u001b[38;5;241m=\u001b[39m VIGMM(num_clusters, sample_size)\n\u001b[0;32m----> 2\u001b[0m \u001b[43mvigmm\u001b[49m\u001b[38;5;241;43m.\u001b[39;49m\u001b[43mfit\u001b[49m\u001b[43m(\u001b[49m\u001b[43mX\u001b[49m\u001b[43m)\u001b[49m\n",
      "Cell \u001b[0;32mIn [893], line 93\u001b[0m, in \u001b[0;36mVIGMM.fit\u001b[0;34m(self, X, num_iterations)\u001b[0m\n\u001b[1;32m     89\u001b[0m \u001b[38;5;28;01mfor\u001b[39;00m i \u001b[38;5;129;01min\u001b[39;00m \u001b[38;5;28mrange\u001b[39m(num_iterations):\n\u001b[1;32m     91\u001b[0m     phis \u001b[38;5;241m=\u001b[39m \u001b[38;5;28mself\u001b[39m\u001b[38;5;241m.\u001b[39m_update_phis(X, mu_k, s2_k)\n\u001b[0;32m---> 93\u001b[0m     mu_k, s2_k \u001b[38;5;241m=\u001b[39m \u001b[38;5;28;43mself\u001b[39;49m\u001b[38;5;241;43m.\u001b[39;49m\u001b[43m_update_gaussian\u001b[49m\u001b[43m(\u001b[49m\u001b[43m)\u001b[49m\n\u001b[1;32m     95\u001b[0m     elbos_res[i\u001b[38;5;241m+\u001b[39m\u001b[38;5;241m1\u001b[39m] \u001b[38;5;241m=\u001b[39m \u001b[38;5;28mself\u001b[39m\u001b[38;5;241m.\u001b[39m_elbo(mu_k, s2_k, phis, X)\n\u001b[1;32m     96\u001b[0m     \u001b[38;5;28;01mif\u001b[39;00m i \u001b[38;5;241m%\u001b[39m \u001b[38;5;241m10\u001b[39m \u001b[38;5;241m==\u001b[39m \u001b[38;5;241m0\u001b[39m:\n",
      "\u001b[0;31mTypeError\u001b[0m: _update_gaussian() missing 2 required positional arguments: 'X' and 'phis'"
     ]
    }
   ],
   "source": [
    "vigmm = VIGMM(num_clusters, sample_size)\n",
    "vigmm.fit(X)"
   ]
  },
  {
   "cell_type": "code",
   "execution_count": 892,
   "id": "d255e626",
   "metadata": {},
   "outputs": [
    {
     "data": {
      "text/plain": [
       "array([-0.29747623, -6.29623722, -1.17959657])"
      ]
     },
     "execution_count": 892,
     "metadata": {},
     "output_type": "execute_result"
    }
   ],
   "source": [
    "vigmm.params['mu']\n"
   ]
  },
  {
   "cell_type": "code",
   "execution_count": 878,
   "id": "eedb985e",
   "metadata": {},
   "outputs": [
    {
     "data": {
      "text/plain": [
       "array([-1.25027354, -0.16880048, -6.40858829])"
      ]
     },
     "execution_count": 878,
     "metadata": {},
     "output_type": "execute_result"
    }
   ],
   "source": [
    "cluster_mus"
   ]
  },
  {
   "cell_type": "code",
   "execution_count": null,
   "id": "537f6a34",
   "metadata": {},
   "outputs": [],
   "source": []
  },
  {
   "cell_type": "code",
   "execution_count": null,
   "id": "3b8946b8",
   "metadata": {},
   "outputs": [],
   "source": []
  },
  {
   "cell_type": "code",
   "execution_count": null,
   "id": "5e98c7e2",
   "metadata": {},
   "outputs": [],
   "source": []
  },
  {
   "cell_type": "code",
   "execution_count": null,
   "id": "dd9bc676",
   "metadata": {},
   "outputs": [],
   "source": []
  }
 ],
 "metadata": {
  "kernelspec": {
   "display_name": "Python 3 (ipykernel)",
   "language": "python",
   "name": "python3"
  },
  "language_info": {
   "codemirror_mode": {
    "name": "ipython",
    "version": 3
   },
   "file_extension": ".py",
   "mimetype": "text/x-python",
   "name": "python",
   "nbconvert_exporter": "python",
   "pygments_lexer": "ipython3",
   "version": "3.9.12"
  }
 },
 "nbformat": 4,
 "nbformat_minor": 5
}
