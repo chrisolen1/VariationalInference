{
 "cells": [
  {
   "cell_type": "code",
   "execution_count": 3,
   "id": "554114d4",
   "metadata": {},
   "outputs": [
    {
     "name": "stdout",
     "output_type": "stream",
     "text": [
      "Collecting numpy\n",
      "  Downloading numpy-1.23.5-cp39-cp39-macosx_11_0_arm64.whl (13.4 MB)\n",
      "\u001b[K     |████████████████████████████████| 13.4 MB 58 kB/s eta 0:00:017    |███████████████████████▌        | 9.8 MB 65 kB/s eta 0:00:54     |██████████████████████████▏     | 10.9 MB 62 kB/s eta 0:00:40\n",
      "\u001b[?25hInstalling collected packages: numpy\n",
      "Successfully installed numpy-1.23.5\n",
      "Collecting scipy\n",
      "  Downloading scipy-1.9.3-cp39-cp39-macosx_12_0_arm64.whl (28.6 MB)\n",
      "\u001b[K     |████████████████████████████████| 28.6 MB 71 kB/s eta 0:00:01     |█▌                              | 1.4 MB 59 kB/s eta 0:07:41     |██████████████████▍             | 16.4 MB 49 kB/s eta 0:04:05     |████████████████████████▉       | 22.2 MB 76 kB/s eta 0:01:24\n",
      "\u001b[?25hRequirement already satisfied: numpy<1.26.0,>=1.18.5 in /Users/chrisolen/development/miniconda3/lib/python3.9/site-packages (from scipy) (1.23.5)\n",
      "Installing collected packages: scipy\n",
      "Successfully installed scipy-1.9.3\n",
      "Collecting seaborn\n",
      "  Downloading seaborn-0.12.1-py3-none-any.whl (288 kB)\n",
      "\u001b[K     |████████████████████████████████| 288 kB 124 kB/s eta 0:00:01\n",
      "\u001b[?25hCollecting pandas>=0.25\n",
      "  Downloading pandas-1.5.2-cp39-cp39-macosx_11_0_arm64.whl (10.9 MB)\n",
      "\u001b[K     |████████████████████████████████| 10.9 MB 69 kB/s eta 0:00:01    |█████████████████████           | 7.1 MB 81 kB/s eta 0:00:46\n",
      "\u001b[?25hRequirement already satisfied: numpy>=1.17 in /Users/chrisolen/development/miniconda3/lib/python3.9/site-packages (from seaborn) (1.23.5)\n",
      "Collecting matplotlib!=3.6.1,>=3.1\n",
      "  Downloading matplotlib-3.6.2-cp39-cp39-macosx_11_0_arm64.whl (7.2 MB)\n",
      "\u001b[K     |████████████████████████████████| 7.2 MB 66 kB/s eta 0:00:016\n",
      "\u001b[?25hRequirement already satisfied: pyparsing>=2.2.1 in /Users/chrisolen/development/miniconda3/lib/python3.9/site-packages (from matplotlib!=3.6.1,>=3.1->seaborn) (3.0.9)\n",
      "Collecting contourpy>=1.0.1\n",
      "  Downloading contourpy-1.0.6-cp39-cp39-macosx_11_0_arm64.whl (226 kB)\n",
      "\u001b[K     |████████████████████████████████| 226 kB 74 kB/s eta 0:00:01\n",
      "\u001b[?25hRequirement already satisfied: packaging>=20.0 in /Users/chrisolen/development/miniconda3/lib/python3.9/site-packages (from matplotlib!=3.6.1,>=3.1->seaborn) (21.3)\n",
      "Collecting pillow>=6.2.0\n",
      "  Downloading Pillow-9.3.0-cp39-cp39-macosx_11_0_arm64.whl (2.9 MB)\n",
      "\u001b[K     |████████████████████████████████| 2.9 MB 82 kB/s eta 0:00:01\n",
      "\u001b[?25hCollecting fonttools>=4.22.0\n",
      "  Downloading fonttools-4.38.0-py3-none-any.whl (965 kB)\n",
      "\u001b[K     |████████████████████████████████| 965 kB 73 kB/s eta 0:00:01\n",
      "\u001b[?25hCollecting kiwisolver>=1.0.1\n",
      "  Downloading kiwisolver-1.4.4-cp39-cp39-macosx_11_0_arm64.whl (63 kB)\n",
      "\u001b[K     |████████████████████████████████| 63 kB 91 kB/s eta 0:00:011\n",
      "\u001b[?25hCollecting cycler>=0.10\n",
      "  Downloading cycler-0.11.0-py3-none-any.whl (6.4 kB)\n",
      "Requirement already satisfied: python-dateutil>=2.7 in /Users/chrisolen/development/miniconda3/lib/python3.9/site-packages (from matplotlib!=3.6.1,>=3.1->seaborn) (2.8.2)\n",
      "Collecting pytz>=2020.1\n",
      "  Downloading pytz-2022.6-py2.py3-none-any.whl (498 kB)\n",
      "\u001b[K     |████████████████████████████████| 498 kB 65 kB/s eta 0:00:01\n",
      "\u001b[?25hRequirement already satisfied: six>=1.5 in /Users/chrisolen/development/miniconda3/lib/python3.9/site-packages (from python-dateutil>=2.7->matplotlib!=3.6.1,>=3.1->seaborn) (1.16.0)\n",
      "Installing collected packages: pytz, pillow, kiwisolver, fonttools, cycler, contourpy, pandas, matplotlib, seaborn\n",
      "Successfully installed contourpy-1.0.6 cycler-0.11.0 fonttools-4.38.0 kiwisolver-1.4.4 matplotlib-3.6.2 pandas-1.5.2 pillow-9.3.0 pytz-2022.6 seaborn-0.12.1\n",
      "Requirement already satisfied: matplotlib in /Users/chrisolen/development/miniconda3/lib/python3.9/site-packages (3.6.2)\n",
      "Requirement already satisfied: pillow>=6.2.0 in /Users/chrisolen/development/miniconda3/lib/python3.9/site-packages (from matplotlib) (9.3.0)\n",
      "Requirement already satisfied: fonttools>=4.22.0 in /Users/chrisolen/development/miniconda3/lib/python3.9/site-packages (from matplotlib) (4.38.0)\n",
      "Requirement already satisfied: numpy>=1.19 in /Users/chrisolen/development/miniconda3/lib/python3.9/site-packages (from matplotlib) (1.23.5)\n",
      "Requirement already satisfied: cycler>=0.10 in /Users/chrisolen/development/miniconda3/lib/python3.9/site-packages (from matplotlib) (0.11.0)\n",
      "Requirement already satisfied: packaging>=20.0 in /Users/chrisolen/development/miniconda3/lib/python3.9/site-packages (from matplotlib) (21.3)\n",
      "Requirement already satisfied: contourpy>=1.0.1 in /Users/chrisolen/development/miniconda3/lib/python3.9/site-packages (from matplotlib) (1.0.6)\n",
      "Requirement already satisfied: python-dateutil>=2.7 in /Users/chrisolen/development/miniconda3/lib/python3.9/site-packages (from matplotlib) (2.8.2)\n",
      "Requirement already satisfied: pyparsing>=2.2.1 in /Users/chrisolen/development/miniconda3/lib/python3.9/site-packages (from matplotlib) (3.0.9)\n",
      "Requirement already satisfied: kiwisolver>=1.0.1 in /Users/chrisolen/development/miniconda3/lib/python3.9/site-packages (from matplotlib) (1.4.4)\n",
      "Requirement already satisfied: six>=1.5 in /Users/chrisolen/development/miniconda3/lib/python3.9/site-packages (from python-dateutil>=2.7->matplotlib) (1.16.0)\n"
     ]
    }
   ],
   "source": [
    "'''\n",
    "!pip install numpy\n",
    "!pip install scipy\n",
    "!pip install seaborn\n",
    "!pip install matplotlib\n",
    "'''"
   ]
  },
  {
   "cell_type": "code",
   "execution_count": 157,
   "id": "56d616af",
   "metadata": {},
   "outputs": [],
   "source": [
    "import numpy as np\n",
    "import scipy as sp\n",
    "\n",
    "import seaborn as sns\n",
    "from matplotlib import pyplot as plt\n",
    "%matplotlib inline"
   ]
  },
  {
   "cell_type": "markdown",
   "id": "0dc3714b",
   "metadata": {},
   "source": [
    "## Data Generation"
   ]
  },
  {
   "cell_type": "code",
   "execution_count": 247,
   "id": "1aa8cb98",
   "metadata": {},
   "outputs": [],
   "source": [
    "sigma = 3\n",
    "num_clusters = 5\n",
    "num_samples = 1000\n"
   ]
  },
  {
   "cell_type": "code",
   "execution_count": 248,
   "id": "f9fa84ea",
   "metadata": {},
   "outputs": [],
   "source": [
    "cluster_mus = np.random.normal(size=num_clusters, loc=0, scale=sigma)\n",
    "cluster_choices = np.random.choice(num_clusters, \n",
    "                            size=num_samples, \n",
    "                            p=[1/num_clusters]*num_clusters)\n",
    "sample_mus = [cluster_mus[cluster_choice] for cluster_choice in cluster_choices]\n",
    "X = np.random.normal(size=num_samples, loc=sample_mus, scale=1)"
   ]
  },
  {
   "cell_type": "markdown",
   "id": "b7000eb9",
   "metadata": {},
   "source": [
    "## Model"
   ]
  },
  {
   "cell_type": "code",
   "execution_count": 249,
   "id": "8c9af571",
   "metadata": {},
   "outputs": [],
   "source": [
    "mu_k = np.random.normal(size=num_clusters, loc = 0, scale = 1) \n",
    "s2_k = np.random.gamma()"
   ]
  },
  {
   "cell_type": "code",
   "execution_count": 250,
   "id": "1445336a",
   "metadata": {},
   "outputs": [
    {
     "name": "stdout",
     "output_type": "stream",
     "text": [
      "Help on built-in function gamma:\n",
      "\n",
      "gamma(...) method of numpy.random.mtrand.RandomState instance\n",
      "    gamma(shape, scale=1.0, size=None)\n",
      "    \n",
      "    Draw samples from a Gamma distribution.\n",
      "    \n",
      "    Samples are drawn from a Gamma distribution with specified parameters,\n",
      "    `shape` (sometimes designated \"k\") and `scale` (sometimes designated\n",
      "    \"theta\"), where both parameters are > 0.\n",
      "    \n",
      "    .. note::\n",
      "        New code should use the ``gamma`` method of a ``default_rng()``\n",
      "        instance instead; please see the :ref:`random-quick-start`.\n",
      "    \n",
      "    Parameters\n",
      "    ----------\n",
      "    shape : float or array_like of floats\n",
      "        The shape of the gamma distribution. Must be non-negative.\n",
      "    scale : float or array_like of floats, optional\n",
      "        The scale of the gamma distribution. Must be non-negative.\n",
      "        Default is equal to 1.\n",
      "    size : int or tuple of ints, optional\n",
      "        Output shape.  If the given shape is, e.g., ``(m, n, k)``, then\n",
      "        ``m * n * k`` samples are drawn.  If size is ``None`` (default),\n",
      "        a single value is returned if ``shape`` and ``scale`` are both scalars.\n",
      "        Otherwise, ``np.broadcast(shape, scale).size`` samples are drawn.\n",
      "    \n",
      "    Returns\n",
      "    -------\n",
      "    out : ndarray or scalar\n",
      "        Drawn samples from the parameterized gamma distribution.\n",
      "    \n",
      "    See Also\n",
      "    --------\n",
      "    scipy.stats.gamma : probability density function, distribution or\n",
      "        cumulative density function, etc.\n",
      "    random.Generator.gamma: which should be used for new code.\n",
      "    \n",
      "    Notes\n",
      "    -----\n",
      "    The probability density for the Gamma distribution is\n",
      "    \n",
      "    .. math:: p(x) = x^{k-1}\\frac{e^{-x/\\theta}}{\\theta^k\\Gamma(k)},\n",
      "    \n",
      "    where :math:`k` is the shape and :math:`\\theta` the scale,\n",
      "    and :math:`\\Gamma` is the Gamma function.\n",
      "    \n",
      "    The Gamma distribution is often used to model the times to failure of\n",
      "    electronic components, and arises naturally in processes for which the\n",
      "    waiting times between Poisson distributed events are relevant.\n",
      "    \n",
      "    References\n",
      "    ----------\n",
      "    .. [1] Weisstein, Eric W. \"Gamma Distribution.\" From MathWorld--A\n",
      "           Wolfram Web Resource.\n",
      "           http://mathworld.wolfram.com/GammaDistribution.html\n",
      "    .. [2] Wikipedia, \"Gamma distribution\",\n",
      "           https://en.wikipedia.org/wiki/Gamma_distribution\n",
      "    \n",
      "    Examples\n",
      "    --------\n",
      "    Draw samples from the distribution:\n",
      "    \n",
      "    >>> shape, scale = 2., 2.  # mean=4, std=2*sqrt(2)\n",
      "    >>> s = np.random.gamma(shape, scale, 1000)\n",
      "    \n",
      "    Display the histogram of the samples, along with\n",
      "    the probability density function:\n",
      "    \n",
      "    >>> import matplotlib.pyplot as plt\n",
      "    >>> import scipy.special as sps  # doctest: +SKIP\n",
      "    >>> count, bins, ignored = plt.hist(s, 50, density=True)\n",
      "    >>> y = bins**(shape-1)*(np.exp(-bins/scale) /  # doctest: +SKIP\n",
      "    ...                      (sps.gamma(shape)*scale**shape))\n",
      "    >>> plt.plot(bins, y, linewidth=2, color='r')  # doctest: +SKIP\n",
      "    >>> plt.show()\n",
      "\n"
     ]
    }
   ],
   "source": [
    "help(np.random.gamma)"
   ]
  },
  {
   "cell_type": "code",
   "execution_count": null,
   "id": "d024865c",
   "metadata": {},
   "outputs": [],
   "source": []
  },
  {
   "cell_type": "code",
   "execution_count": null,
   "id": "f62a75a5",
   "metadata": {},
   "outputs": [],
   "source": []
  },
  {
   "cell_type": "code",
   "execution_count": null,
   "id": "38831d51",
   "metadata": {},
   "outputs": [],
   "source": []
  },
  {
   "cell_type": "code",
   "execution_count": null,
   "id": "9e55caa2",
   "metadata": {},
   "outputs": [],
   "source": []
  },
  {
   "cell_type": "code",
   "execution_count": null,
   "id": "2644f9b7",
   "metadata": {},
   "outputs": [],
   "source": []
  }
 ],
 "metadata": {
  "kernelspec": {
   "display_name": "Python 3 (ipykernel)",
   "language": "python",
   "name": "python3"
  },
  "language_info": {
   "codemirror_mode": {
    "name": "ipython",
    "version": 3
   },
   "file_extension": ".py",
   "mimetype": "text/x-python",
   "name": "python",
   "nbconvert_exporter": "python",
   "pygments_lexer": "ipython3",
   "version": "3.9.12"
  }
 },
 "nbformat": 4,
 "nbformat_minor": 5
}
